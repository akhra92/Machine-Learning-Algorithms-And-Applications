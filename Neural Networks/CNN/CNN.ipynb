{
 "cells": [
  {
   "cell_type": "markdown",
   "id": "a12220e4",
   "metadata": {},
   "source": [
    "# Importing the libraries"
   ]
  },
  {
   "cell_type": "code",
   "execution_count": 1,
   "id": "dafe8f6a",
   "metadata": {},
   "outputs": [],
   "source": [
    "import warnings\n",
    "warnings.filterwarnings('ignore')"
   ]
  },
  {
   "cell_type": "code",
   "execution_count": 2,
   "id": "167de230",
   "metadata": {},
   "outputs": [],
   "source": [
    "import torch\n",
    "import torch.nn as nn\n",
    "from torch.utils.data import DataLoader\n",
    "from torch.optim import AdamW\n",
    "import torchvision\n",
    "from torchvision.datasets import MNIST\n",
    "import torchvision.transforms as tf\n",
    "import numpy as np"
   ]
  },
  {
   "cell_type": "code",
   "execution_count": 3,
   "id": "cc800625",
   "metadata": {},
   "outputs": [],
   "source": [
    "device = 'cuda' if torch.cuda.is_available() else 'cpu'"
   ]
  },
  {
   "cell_type": "code",
   "execution_count": 4,
   "id": "6f5f8a51",
   "metadata": {},
   "outputs": [
    {
     "name": "stdout",
     "output_type": "stream",
     "text": [
      "cpu\n"
     ]
    }
   ],
   "source": [
    "print(device)"
   ]
  },
  {
   "cell_type": "markdown",
   "id": "30d3876e",
   "metadata": {},
   "source": [
    "# Define the data transforms"
   ]
  },
  {
   "cell_type": "code",
   "execution_count": 20,
   "id": "6e858445",
   "metadata": {},
   "outputs": [],
   "source": [
    "train_tf = tf.Compose([tf.Resize((224, 224)),\n",
    "                       tf.RandomHorizontalFlip(p=0.5),\n",
    "                       tf.ToTensor(),\n",
    "                       tf.Normalize(mean=[0.5], std=[0.5])])\n",
    "\n",
    "val_tf = tf.Compose([tf.Resize((224, 224)),\n",
    "                    tf.ToTensor(),\n",
    "                    tf.Normalize(mean=[0.5], std=[0.5])])"
   ]
  },
  {
   "cell_type": "markdown",
   "id": "381cd61c",
   "metadata": {},
   "source": [
    "# Get the MNIST dataset"
   ]
  },
  {
   "cell_type": "code",
   "execution_count": 21,
   "id": "222c780e",
   "metadata": {},
   "outputs": [],
   "source": [
    "train_dataset = MNIST(root='./data', train=True, download=True, transform=train_tf)\n",
    "test_dataset = MNIST(root='./data', train=False, download=True, transform=val_tf)"
   ]
  },
  {
   "cell_type": "markdown",
   "id": "fac8d2fb",
   "metadata": {},
   "source": [
    "# Get the dataloaders"
   ]
  },
  {
   "cell_type": "code",
   "execution_count": 22,
   "id": "f9d081a8",
   "metadata": {},
   "outputs": [],
   "source": [
    "trn_loader = DataLoader(train_dataset, batch_size=32, shuffle=True, drop_last=True)\n",
    "val_loader = DataLoader(test_dataset, batch_size=32, shuffle=False, drop_last=True)"
   ]
  },
  {
   "cell_type": "markdown",
   "id": "fcdaa7a3",
   "metadata": {},
   "source": [
    "# Build the CNN model"
   ]
  },
  {
   "cell_type": "code",
   "execution_count": 23,
   "id": "06cea760",
   "metadata": {},
   "outputs": [],
   "source": [
    "model = nn.Sequential(nn.Conv2d(1, 64, kernel_size=3),\n",
    "                      nn.ReLU(),\n",
    "                      nn.MaxPool2d(2),\n",
    "                      nn.Conv2d(64, 256, kernel_size=3),\n",
    "                      nn.ReLU(),\n",
    "                      nn.MaxPool2d(2),\n",
    "                      nn.Conv2d(256, 128, kernel_size=3),\n",
    "                      nn.ReLU(),\n",
    "                      nn.MaxPool2d(2),\n",
    "                      nn.Conv2d(128, 32, kernel_size=3),\n",
    "                      nn.ReLU(),\n",
    "                      nn.MaxPool2d(2),\n",
    "                      nn.Flatten(),\n",
    "                      nn.Linear(4608, 256),\n",
    "                      nn.Linear(256, 128),\n",
    "                      nn.Linear(128, 10)).to(device)"
   ]
  },
  {
   "cell_type": "code",
   "execution_count": 24,
   "id": "27869f8c",
   "metadata": {},
   "outputs": [],
   "source": [
    "num_epochs = 50\n",
    "lr = 1e-3\n",
    "optimizer = AdamW(model.parameters(), lr = lr)\n",
    "criterion = nn.CrossEntropyLoss()"
   ]
  },
  {
   "cell_type": "markdown",
   "id": "74af3d6e",
   "metadata": {},
   "source": [
    "# Train the model"
   ]
  },
  {
   "cell_type": "code",
   "execution_count": null,
   "id": "fc6d022a",
   "metadata": {},
   "outputs": [],
   "source": [
    "trn_acc, val_acc = [], []\n",
    "trn_loss, val_loss = [], []\n",
    "\n",
    "for epoch in range(num_epochs):\n",
    "    \n",
    "    epch_trn_loss, epch_val_loss = [], []\n",
    "    epch_trn_acc, epch_val_acc = [], []\n",
    "    \n",
    "    model.train()\n",
    "    for batch in trn_loader:        \n",
    "        x, y = batch\n",
    "        x, y = x.to(device), y.to(device)\n",
    "        y_pred = model(x)\n",
    "        loss = criterion(y_pred, y)\n",
    "        _, predicted = torch.max(y_pred, 1)\n",
    "        acc = (predicted == y).float().mean()\n",
    "        loss.backward()\n",
    "        optimizer.step()\n",
    "        optimizer.zero_grad()\n",
    "        \n",
    "        epch_trn_loss.append(loss.item())\n",
    "        epch_trn_acc.append(acc.item())\n",
    "    \n",
    "    model.eval()\n",
    "    with torch.no_grad():\n",
    "        for batch in val_loader:            \n",
    "            x, y = batch\n",
    "            x, y = x.to(device), y.to(device)\n",
    "            y_pred = model(x)\n",
    "            loss = criterion(y_pred, y)\n",
    "            _, predicted = torch.max(y_pred, 1)\n",
    "            acc = (predicted == y).float().mean()\n",
    "            \n",
    "            epch_trn_loss.append(loss.item())\n",
    "            epch_trn_acc.append(acc.item())\n",
    "    \n",
    "    trn_acc.append(np.mean(epch_trn_acc))\n",
    "    trn_loss.append(np.mean(epch_trn_loss))\n",
    "    val_acc.append(np.mean(epch_val_acc))\n",
    "    val_loss.append(np.mean(epch_val_loss))"
   ]
  },
  {
   "cell_type": "code",
   "execution_count": null,
   "id": "eb1edffa",
   "metadata": {},
   "outputs": [],
   "source": []
  }
 ],
 "metadata": {
  "kernelspec": {
   "display_name": "Python 3 (ipykernel)",
   "language": "python",
   "name": "python3"
  },
  "language_info": {
   "codemirror_mode": {
    "name": "ipython",
    "version": 3
   },
   "file_extension": ".py",
   "mimetype": "text/x-python",
   "name": "python",
   "nbconvert_exporter": "python",
   "pygments_lexer": "ipython3",
   "version": "3.9.12"
  }
 },
 "nbformat": 4,
 "nbformat_minor": 5
}
