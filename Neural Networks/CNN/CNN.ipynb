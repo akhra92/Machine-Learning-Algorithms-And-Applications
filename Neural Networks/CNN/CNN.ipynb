{
 "cells": [
  {
   "cell_type": "markdown",
   "id": "a12220e4",
   "metadata": {},
   "source": [
    "# Importing the libraries"
   ]
  },
  {
   "cell_type": "code",
   "execution_count": 13,
   "id": "167de230",
   "metadata": {},
   "outputs": [],
   "source": [
    "import torch\n",
    "import torch.nn as nn\n",
    "import torchvision\n",
    "from torchvision.datasets import MNIST\n",
    "from torch.optim import AdamW\n",
    "import torchvision.transforms as tf\n",
    "import numpy as np"
   ]
  },
  {
   "cell_type": "code",
   "execution_count": 14,
   "id": "4c2fdbaa",
   "metadata": {},
   "outputs": [],
   "source": [
    "device = 'cuda' if torch.cuda.is_available() else 'cpu'"
   ]
  },
  {
   "cell_type": "code",
   "execution_count": 7,
   "id": "6f5f8a51",
   "metadata": {},
   "outputs": [
    {
     "name": "stdout",
     "output_type": "stream",
     "text": [
      "1.13.1+cpu\n"
     ]
    }
   ],
   "source": [
    "print(torch.__version__)"
   ]
  },
  {
   "cell_type": "markdown",
   "id": "7f005d72",
   "metadata": {},
   "source": [
    "# Define the data transforms"
   ]
  },
  {
   "cell_type": "code",
   "execution_count": 12,
   "id": "06abd6f6",
   "metadata": {},
   "outputs": [],
   "source": [
    "train_tf = tf.Compose([tf.Resize((224, 224)),\n",
    "                       tf.RandomHorizontalFlip(p=0.5),\n",
    "                       tf.ToTensor(),\n",
    "                       tf.Normalize(mean=[0.5, 0.5, 0.5], std=[0.5, 0.5, 0.5])])\n",
    "\n",
    "val_tf = tf.Compose([tf.Resize((224, 224)),\n",
    "                    tf.ToTensor(),\n",
    "                    tf.Normalize(mean=[0.5, 0.5, 0.5], std=[0.5, 0.5, 0.5])])"
   ]
  },
  {
   "cell_type": "markdown",
   "id": "cb9a7726",
   "metadata": {},
   "source": [
    "# Get the MNIST dataset"
   ]
  },
  {
   "cell_type": "code",
   "execution_count": null,
   "id": "b69917d8",
   "metadata": {},
   "outputs": [
    {
     "name": "stdout",
     "output_type": "stream",
     "text": [
      "Downloading http://yann.lecun.com/exdb/mnist/train-images-idx3-ubyte.gz\n",
      "Failed to download (trying next):\n",
      "HTTP Error 404: Not Found\n",
      "\n",
      "Downloading https://ossci-datasets.s3.amazonaws.com/mnist/train-images-idx3-ubyte.gz\n"
     ]
    }
   ],
   "source": [
    "train_dataset = MNIST(root='./data', train=True, download=True, transform=train_tf)\n",
    "test_dataset = MNIST(root='./data', train=False, download=True, transform=val_tf)"
   ]
  },
  {
   "cell_type": "code",
   "execution_count": null,
   "id": "497f7633",
   "metadata": {},
   "outputs": [],
   "source": []
  }
 ],
 "metadata": {
  "kernelspec": {
   "display_name": "Python 3 (ipykernel)",
   "language": "python",
   "name": "python3"
  },
  "language_info": {
   "codemirror_mode": {
    "name": "ipython",
    "version": 3
   },
   "file_extension": ".py",
   "mimetype": "text/x-python",
   "name": "python",
   "nbconvert_exporter": "python",
   "pygments_lexer": "ipython3",
   "version": "3.9.12"
  }
 },
 "nbformat": 4,
 "nbformat_minor": 5
}
