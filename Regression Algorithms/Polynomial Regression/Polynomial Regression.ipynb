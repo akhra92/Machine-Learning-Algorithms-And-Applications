{
 "cells": [
  {
   "cell_type": "markdown",
   "id": "f6fb4d10",
   "metadata": {},
   "source": [
    "# Importing the libraries"
   ]
  },
  {
   "cell_type": "code",
   "execution_count": 1,
   "id": "b17f30e8",
   "metadata": {},
   "outputs": [],
   "source": [
    "import pandas as pd\n",
    "import numpy as np\n",
    "import matplotlib.pyplot as plt\n",
    "from sklearn.linear_model import LinearRegression\n",
    "from sklearn.preprocessing import PolynomialFeatures"
   ]
  },
  {
   "cell_type": "markdown",
   "id": "d2e39e84",
   "metadata": {},
   "source": [
    "# Importing the dataset"
   ]
  },
  {
   "cell_type": "code",
   "execution_count": 2,
   "id": "637d78e6",
   "metadata": {},
   "outputs": [],
   "source": [
    "data = pd.read_csv('Position_Salaries.csv')\n",
    "X = data.iloc[:, 1:-1].values\n",
    "y = data.iloc[:, -1].values"
   ]
  },
  {
   "cell_type": "markdown",
   "id": "dfed37db",
   "metadata": {},
   "source": [
    "# Training the Linear Regression model"
   ]
  },
  {
   "cell_type": "code",
   "execution_count": 3,
   "id": "e6da0667",
   "metadata": {},
   "outputs": [
    {
     "data": {
      "text/plain": [
       "LinearRegression()"
      ]
     },
     "execution_count": 3,
     "metadata": {},
     "output_type": "execute_result"
    }
   ],
   "source": [
    "regressor_1 = LinearRegression()\n",
    "regressor_1.fit(X, y)"
   ]
  },
  {
   "cell_type": "markdown",
   "id": "0654385f",
   "metadata": {},
   "source": [
    "# Training the Polynomial Regression model"
   ]
  },
  {
   "cell_type": "code",
   "execution_count": 6,
   "id": "39020069",
   "metadata": {},
   "outputs": [
    {
     "data": {
      "text/plain": [
       "LinearRegression()"
      ]
     },
     "execution_count": 6,
     "metadata": {},
     "output_type": "execute_result"
    }
   ],
   "source": [
    "poly_features = PolynomialFeatures(degree = 4)\n",
    "X_poly = poly_features.fit_transform(X)\n",
    "regressor_2 = LinearRegression()\n",
    "regressor_2.fit(X_poly, y)"
   ]
  },
  {
   "cell_type": "markdown",
   "id": "e49b156f",
   "metadata": {},
   "source": [
    "# Visualizing results of Linear Regression model"
   ]
  },
  {
   "cell_type": "code",
   "execution_count": 8,
   "id": "fbe816fb",
   "metadata": {},
   "outputs": [
    {
     "data": {
      "image/png": "[encoded data removed]",
      "text/plain": [
       "<Figure size 432x288 with 1 Axes>"
      ]
     },
     "metadata": {
      "needs_background": "light"
     },
     "output_type": "display_data"
    }
   ],
   "source": [
    "plt.scatter(X, y, color='red')\n",
    "plt.plot(X, regressor_1.predict(X), color='blue')\n",
    "plt.title('Linear Regression without polynomial features')\n",
    "plt.xlabel('Postition level')\n",
    "plt.ylabel('Salary')\n",
    "plt.show()"
   ]
  },
  {
   "cell_type": "markdown",
   "id": "9587cb1d",
   "metadata": {},
   "source": [
    "# Visualizing results of Polynomial Regression model"
   ]
  },
  {
   "cell_type": "code",
   "execution_count": 9,
   "id": "95f29bd4",
   "metadata": {},
   "outputs": [
    {
     "data": {
      "image/png": "[encoded data removed]",
      "text/plain": [
       "<Figure size 432x288 with 1 Axes>"
      ]
     },
     "metadata": {
      "needs_background": "light"
     },
     "output_type": "display_data"
    }
   ],
   "source": [
    "plt.scatter(X, y, color = 'red')\n",
    "plt.plot(X, regressor_2.predict(poly_features.fit_transform(X)), color = 'blue')\n",
    "plt.title('Polynomial Regression model')\n",
    "plt.xlabel('Position level')\n",
    "plt.ylabel('Salary')\n",
    "plt.show()"
   ]
  },
  {
   "cell_type": "markdown",
   "id": "8eba0e9f",
   "metadata": {},
   "source": [
    "# Predicting with Linear Regression model"
   ]
  },
  {
   "cell_type": "code",
   "execution_count": 10,
   "id": "dcd915e1",
   "metadata": {},
   "outputs": [
    {
     "data": {
      "text/plain": [
       "array([411257.57575758])"
      ]
     },
     "execution_count": 10,
     "metadata": {},
     "output_type": "execute_result"
    }
   ],
   "source": [
    "regressor_1.predict([[7.5]])"
   ]
  },
  {
   "cell_type": "markdown",
   "id": "753e9b3a",
   "metadata": {},
   "source": [
    "# Predicting with Polynomial Regression model"
   ]
  },
  {
   "cell_type": "code",
   "execution_count": 12,
   "id": "46a87411",
   "metadata": {},
   "outputs": [
    {
     "data": {
      "text/plain": [
       "array([225126.29297782])"
      ]
     },
     "execution_count": 12,
     "metadata": {},
     "output_type": "execute_result"
    }
   ],
   "source": [
    "regressor_2.predict(poly_features.fit_transform([[7.5]]))"
   ]
  },
  {
   "cell_type": "code",
   "execution_count": null,
   "id": "94f407c8",
   "metadata": {},
   "outputs": [],
   "source": []
  }
 ],
 "metadata": {
  "kernelspec": {
   "display_name": "Python 3 (ipykernel)",
   "language": "python",
   "name": "python3"
  },
  "language_info": {
   "codemirror_mode": {
    "name": "ipython",
    "version": 3
   },
   "file_extension": ".py",
   "mimetype": "text/x-python",
   "name": "python",
   "nbconvert_exporter": "python",
   "pygments_lexer": "ipython3",
   "version": "3.9.12"
  }
 },
 "nbformat": 4,
 "nbformat_minor": 5
}
