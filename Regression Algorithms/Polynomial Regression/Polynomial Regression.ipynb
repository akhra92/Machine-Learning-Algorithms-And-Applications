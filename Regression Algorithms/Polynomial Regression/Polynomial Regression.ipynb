{
 "cells": [
  {
   "cell_type": "markdown",
   "id": "fa42ff9b",
   "metadata": {},
   "source": [
    "# Importing the libraries"
   ]
  },
  {
   "cell_type": "code",
   "execution_count": 1,
   "id": "83e32b0e",
   "metadata": {},
   "outputs": [],
   "source": [
    "import pandas as pd\n",
    "import numpy as np\n",
    "import matplotlib.pyplot as plt\n",
    "from sklearn.linear_model import LinearRegression\n",
    "from sklearn.preprocessing import PolynomialFeatures"
   ]
  },
  {
   "cell_type": "markdown",
   "id": "bf114e68",
   "metadata": {},
   "source": [
    "# Importing the dataset"
   ]
  },
  {
   "cell_type": "code",
   "execution_count": 2,
   "id": "48ebf688",
   "metadata": {},
   "outputs": [],
   "source": [
    "data = pd.read_csv('Position_Salaries.csv')\n",
    "X = data.iloc[:, 1:-1].values\n",
    "y = data.iloc[:, -1].values"
   ]
  },
  {
   "cell_type": "markdown",
   "id": "f910c033",
   "metadata": {},
   "source": [
    "# Training the Linear Regression model"
   ]
  },
  {
   "cell_type": "code",
   "execution_count": 3,
   "id": "e4ea0b8a",
   "metadata": {},
   "outputs": [
    {
     "data": {
      "text/plain": [
       "LinearRegression()"
      ]
     },
     "execution_count": 3,
     "metadata": {},
     "output_type": "execute_result"
    }
   ],
   "source": [
    "regressor_1 = LinearRegression()\n",
    "regressor_1.fit(X, y)"
   ]
  },
  {
   "cell_type": "markdown",
   "id": "041aa03c",
   "metadata": {},
   "source": [
    "# Training the Polynomial Regression model"
   ]
  },
  {
   "cell_type": "code",
   "execution_count": null,
   "id": "8ae9515d",
   "metadata": {},
   "outputs": [],
   "source": [
    "poly_features = PolynomialFeatures(degree = 4)\n",
    "X_poly = poly_features.fit_transform(X)\n",
    "regressor_2 = LinearRegression()\n",
    "regressor.fit(X_)"
   ]
  }
 ],
 "metadata": {
  "kernelspec": {
   "display_name": "Python 3 (ipykernel)",
   "language": "python",
   "name": "python3"
  },
  "language_info": {
   "codemirror_mode": {
    "name": "ipython",
    "version": 3
   },
   "file_extension": ".py",
   "mimetype": "text/x-python",
   "name": "python",
   "nbconvert_exporter": "python",
   "pygments_lexer": "ipython3",
   "version": "3.9.12"
  }
 },
 "nbformat": 4,
 "nbformat_minor": 5
}
